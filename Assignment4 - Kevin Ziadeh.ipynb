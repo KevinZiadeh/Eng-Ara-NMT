{
  "nbformat": 4,
  "nbformat_minor": 0,
  "metadata": {
    "colab": {
      "name": "NMT.ipynb",
      "provenance": [],
      "collapsed_sections": [
        "95LyYSW5kBZp",
        "NW1dWqzPj05y",
        "IuQRpaflhOqD",
        "1lMWlYK-jwcN",
        "lpLBEEFWhjqH"
      ],
      "toc_visible": true
    },
    "kernelspec": {
      "display_name": "Python 3",
      "name": "python3"
    },
    "language_info": {
      "name": "python"
    }
  },
  "cells": [
    {
      "cell_type": "markdown",
      "metadata": {
        "id": "CwYArNSHkSf9"
      },
      "source": [
        "# Preprocessing"
      ]
    },
    {
      "cell_type": "code",
      "metadata": {
        "colab": {
          "base_uri": "https://localhost:8080/"
        },
        "id": "RWSJpsyKqHjH",
        "outputId": "189089e6-c4ac-4324-c0ac-f3bf6b4dd552"
      },
      "source": [
        "from google.colab import drive\n",
        "drive.mount('/content/drive')"
      ],
      "execution_count": 1,
      "outputs": [
        {
          "output_type": "stream",
          "text": [
            "Drive already mounted at /content/drive; to attempt to forcibly remount, call drive.mount(\"/content/drive\", force_remount=True).\n"
          ],
          "name": "stdout"
        }
      ]
    },
    {
      "cell_type": "code",
      "metadata": {
        "id": "IrqnNrGAsLtl"
      },
      "source": [
        "import numpy as np\n",
        "import tensorflow as tf\n",
        "from tensorflow import keras\n",
        "from tensorflow.keras.layers.experimental.preprocessing import TextVectorization\n",
        "from sklearn.model_selection import train_test_split\n",
        "import os"
      ],
      "execution_count": 2,
      "outputs": []
    },
    {
      "cell_type": "code",
      "metadata": {
        "id": "Vlpkgj9cmL3j"
      },
      "source": [
        "batch_size = 64  # Batch size for training.\n",
        "epochs = 50  # Number of epochs to train for.\n",
        "latent_dim = 256  # Latent dimensionality of the encoding space.\n",
        "num_samples = 6500  # Number of samples to train on."
      ],
      "execution_count": null,
      "outputs": []
    },
    {
      "cell_type": "code",
      "metadata": {
        "id": "OrPK90R2jt_t",
        "colab": {
          "base_uri": "https://localhost:8080/"
        },
        "outputId": "36cde4d7-3191-4350-accf-bcbd207a8119"
      },
      "source": [
        "dataset = '/content/drive/MyDrive/Colab Notebooks/EECE 693/Assignment4/Dataset'\n",
        "input_texts = []\n",
        "target_texts = []\n",
        "input_words = set()\n",
        "target_words = set()\n",
        "sample = 0\n",
        "with open(dataset+'/ara.txt') as f:\n",
        "    target_words.add(\"<sos>\")\n",
        "    target_words.add(\"<eos>\")\n",
        "    for line in f:\n",
        "        sample += 1\n",
        "        if sample == num_samples:\n",
        "            break\n",
        "        engText, araText, _ = line.split('\\t')\n",
        "        input_texts.append(engText)\n",
        "        # We use <sos> as the \"start of sequence\" character\n",
        "        # for the targets, and \"<eos>\" as \"end of sequence\" character.\n",
        "        target_texts.append(\"<sos> \" + araText + \" <eos>\")\n",
        "        for word in engText.split():\n",
        "            if word not in input_words:\n",
        "                input_words.add(word)\n",
        "        for word in araText.split():\n",
        "            if word not in target_words:\n",
        "                target_words.add(word)\n",
        "\n",
        "for i in range(3):\n",
        "    print(f\"English: {input_texts[i]}\")\n",
        "    print(f\"Arabic: {target_texts[i]}\")\n",
        "    print(\"---------------------------------------------------\")\n",
        "\n",
        "for i in range(1, 4):\n",
        "    print(f\"English: {input_texts[-i]}\")\n",
        "    print(f\"Arabic: {target_texts[-i]}\")\n",
        "    print(\"---------------------------------------------------\")"
      ],
      "execution_count": null,
      "outputs": [
        {
          "output_type": "stream",
          "text": [
            "English: Hi.\n",
            "Arabic: <sos> مرحبًا. <eos>\n",
            "---------------------------------------------------\n",
            "English: Run!\n",
            "Arabic: <sos> اركض! <eos>\n",
            "---------------------------------------------------\n",
            "English: Help!\n",
            "Arabic: <sos> النجدة! <eos>\n",
            "---------------------------------------------------\n",
            "English: Tom wished he hadn't looked.\n",
            "Arabic: <sos> تمنى توم لو أنه لم يرى. <eos>\n",
            "---------------------------------------------------\n",
            "English: Tom will need a lot of help.\n",
            "Arabic: <sos> سوف يحتاج توم الكثير من المساعدة. <eos>\n",
            "---------------------------------------------------\n",
            "English: Tom was indicted last month.\n",
            "Arabic: <sos> تم اتهام توم الشهر الماضي. <eos>\n",
            "---------------------------------------------------\n"
          ],
          "name": "stdout"
        }
      ]
    },
    {
      "cell_type": "code",
      "metadata": {
        "id": "qvckKd53n6Lh"
      },
      "source": [
        "input_words = sorted(list(input_words))                             # english lexicon -> encoder\n",
        "num_encoder_tokens = len(input_words)                               # size of english lexicon -> encoder\n",
        "max_encoder_seq_length = max([len(txt) for txt in input_texts])     # max text size in english lexicon -> encoder\n",
        "target_words = sorted(list(target_words))                           # arabic lexicon -> decoder\n",
        "num_decoder_tokens = len(target_words)                              # size of arabic lexicon -> decoder\n",
        "max_decoder_seq_length = max([len(txt) for txt in target_texts])    # max text size in arabic lexicon -> decoder\n"
      ],
      "execution_count": null,
      "outputs": []
    },
    {
      "cell_type": "markdown",
      "metadata": {
        "id": "95LyYSW5kBZp"
      },
      "source": [
        "#Vocabulary"
      ]
    },
    {
      "cell_type": "code",
      "metadata": {
        "id": "wVA1jmaMZ_Vx"
      },
      "source": [
        "vectorizer_eng = TextVectorization(max_tokens=num_encoder_tokens, output_sequence_length=max_encoder_seq_length)\n",
        "text_ds_eng = tf.data.Dataset.from_tensor_slices(input_texts)\n",
        "vectorizer_eng.adapt(text_ds_eng)\n",
        "voc_eng = vectorizer_eng.get_vocabulary()\n",
        "word_index_eng = dict(zip(voc_eng, range(len(voc_eng))))\n",
        "\n",
        "\n",
        "vectorizer_ara = TextVectorization(max_tokens=num_decoder_tokens, output_sequence_length=max_decoder_seq_length)\n",
        "text_ds_ara = tf.data.Dataset.from_tensor_slices(target_texts).batch(128)\n",
        "vectorizer_ara.adapt(text_ds_ara)\n",
        "voc_ara = vectorizer_ara.get_vocabulary()\n",
        "word_index_ara = dict(zip(voc_ara, range(len(voc_ara))))\n",
        "\n",
        "reverse_input_char_index = dict((i, char) for char, i in word_index_eng.items())\n",
        "reverse_target_char_index = dict((i, char) for char, i in word_index_ara.items())"
      ],
      "execution_count": null,
      "outputs": []
    },
    {
      "cell_type": "code",
      "metadata": {
        "id": "2PdjZKYZ_TJw"
      },
      "source": [
        "path_to_glove_file = \"/content/drive/MyDrive/Colab Notebooks/EECE 693/Assignment4/glove/glove.6B.300d.txt\"\n",
        "\n",
        "embeddings_index = {}\n",
        "with open(path_to_glove_file) as f:\n",
        "    for line in f:\n",
        "        word, coefs = line.split(maxsplit=1)\n",
        "        coefs = np.fromstring(coefs, \"f\", sep=\" \")\n",
        "        embeddings_index[word] = coefs\n",
        "\n",
        "num_encoder_tokens = len(voc_eng) + 2\n",
        "embedding_dim = 300\n",
        "\n",
        "embedding_matrix_eng = np.zeros((num_encoder_tokens, embedding_dim))\n",
        "for word, i in word_index_eng.items():\n",
        "    embedding_vector = embeddings_index.get(word)\n",
        "    if embedding_vector is not None:\n",
        "        embedding_matrix_eng[i] = embedding_vector\n",
        "\n",
        "num_decoder_tokens = len(voc_ara) + 2\n",
        "\n",
        "del embeddings_index"
      ],
      "execution_count": null,
      "outputs": []
    },
    {
      "cell_type": "code",
      "metadata": {
        "id": "k-_nYv2e6DQB"
      },
      "source": [
        "X = vectorizer_eng(np.array([[s] for s in input_texts])).numpy()\n",
        "y = vectorizer_ara(np.array([[s] for s in target_texts])).numpy()\n",
        "\n",
        "X_train, X_test, y_train, y_test = train_test_split(X, y, test_size=0.1, random_state=32)\n",
        "\n",
        "col = np.zeros(y_train.shape[0]).reshape(y_train.shape[0], 1)\n",
        "shifted_y_train = np.append(y_train[:,1:], col, axis=1)\n",
        "\n",
        "del col\n",
        "del X\n",
        "del y\n",
        "\n",
        "decoder_target_data_shifted = np.zeros(\n",
        "    (len(shifted_y_train), max_decoder_seq_length, num_decoder_tokens), dtype=\"float32\"\n",
        ")\n",
        "\n",
        "for i, sample in enumerate(shifted_y_train):\n",
        "    for j, word_index in enumerate(sample):\n",
        "        decoder_target_data_shifted[i, j, int(word_index)] = 1.0\n",
        "\n",
        "del shifted_y_train"
      ],
      "execution_count": null,
      "outputs": []
    },
    {
      "cell_type": "markdown",
      "metadata": {
        "id": "pyt_8L7mkKCz"
      },
      "source": [
        "# Model"
      ]
    },
    {
      "cell_type": "code",
      "metadata": {
        "id": "Z0RKlzOz_Wo1"
      },
      "source": [
        "from tensorflow.keras.layers import Embedding\n",
        "\n",
        "encoder_embedding_layer = Embedding(\n",
        "    num_encoder_tokens,\n",
        "    embedding_dim,\n",
        "    embeddings_initializer=keras.initializers.Constant(embedding_matrix_eng),\n",
        "    trainable=False,\n",
        ")\n",
        "\n",
        "decoder_embedding_layer = Embedding(\n",
        "    num_decoder_tokens,\n",
        "    embedding_dim,\n",
        "    trainable=True,\n",
        ")\n",
        "\n",
        "encoder_inputs = keras.Input(shape=(None, ))\n",
        "encoder_embedded_sequences = encoder_embedding_layer(encoder_inputs)\n",
        "encoder = keras.layers.LSTM(latent_dim, return_state=True, return_sequences=True)\n",
        "encoder_outputs, state_h, state_c = encoder(encoder_embedded_sequences)\n",
        "encoder_states = [state_h, state_c]\n",
        "\n",
        "decoder_inputs = keras.Input(shape=(None, ))\n",
        "decoder_embedded_sequences = decoder_embedding_layer(decoder_inputs)\n",
        "decoder_lstm = keras.layers.LSTM(latent_dim, return_sequences=True, return_state=True)\n",
        "decoder_outputs, _, _ = decoder_lstm(decoder_embedded_sequences, initial_state=encoder_states)\n",
        "decoder_dense = keras.layers.Dense(num_decoder_tokens, activation=\"softmax\")\n",
        "decoder_outputs = decoder_dense(decoder_outputs)\n",
        "\n",
        "\n",
        "model = keras.Model([encoder_inputs, decoder_inputs], decoder_outputs)"
      ],
      "execution_count": null,
      "outputs": []
    },
    {
      "cell_type": "code",
      "metadata": {
        "id": "LRuArShN6Dk9"
      },
      "source": [
        "model.compile(\n",
        "    optimizer=\"rmsprop\", loss=\"categorical_crossentropy\", metrics=[\"accuracy\"]\n",
        ")\n",
        "\n",
        "model.fit(\n",
        "    [X_train, y_train],\n",
        "    decoder_target_data_shifted,\n",
        "    batch_size=batch_size,\n",
        "    epochs=epochs,\n",
        "    validation_split=0.1,\n",
        ")\n",
        "# Save model\n",
        "model.save(\"/content/drive/MyDrive/Colab Notebooks/EECE 693/Assignment4/s2s_manual_shifted_v4\")\n"
      ],
      "execution_count": null,
      "outputs": []
    },
    {
      "cell_type": "code",
      "metadata": {
        "id": "0qDJPRz8rrT7",
        "colab": {
          "base_uri": "https://localhost:8080/",
          "height": 533
        },
        "outputId": "ecc7df7d-b9fa-4180-bfa7-1ba70c25b2b8"
      },
      "source": [
        "model = keras.models.load_model(\"/content/drive/MyDrive/Colab Notebooks/EECE 693/Assignment4/s2s_manual_shifted_v3\")\n",
        "\n",
        "model.save_weights(\"/content/drive/MyDrive/Colab Notebooks/EECE 693/Assignment4/model.h5\")\n",
        "from keras.utils.vis_utils import plot_model\n",
        "plot_model(model, to_file='model_plot.png', show_shapes=True, show_layer_names=True)\n"
      ],
      "execution_count": 4,
      "outputs": [
        {
          "output_type": "execute_result",
          "data": {
            "image/png": "[encoded data removed]",
            "text/plain": [
              "<IPython.core.display.Image object>"
            ]
          },
          "metadata": {
            "tags": []
          },
          "execution_count": 4
        }
      ]
    },
    {
      "cell_type": "markdown",
      "metadata": {
        "id": "NW1dWqzPj05y"
      },
      "source": [
        "# Evaluation using train data"
      ]
    },
    {
      "cell_type": "code",
      "metadata": {
        "id": "4bPJfVR8OoI0"
      },
      "source": [
        "model1 = keras.models.load_model(\"/content/drive/MyDrive/Colab Notebooks/EECE 693/Assignment4/s2s_manual_shifted_v3\")"
      ],
      "execution_count": null,
      "outputs": []
    },
    {
      "cell_type": "code",
      "metadata": {
        "colab": {
          "base_uri": "https://localhost:8080/"
        },
        "id": "CabeKfNkWHAy",
        "outputId": "b0f45e8c-ebef-4efd-b33b-d0a4998a6cc9"
      },
      "source": [
        "ori = \"\"\n",
        "for sample in X_train[50:100]:\n",
        "    for e in sample:\n",
        "        ori += reverse_input_char_index[e] + \" \"\n",
        "    ori += '\\n'\n",
        "ori = ori.split('\\n')\n",
        "\n",
        "gT = []\n",
        "for sample in y_train[50:100]:\n",
        "    true_sample = []\n",
        "    for e in sample:\n",
        "        if reverse_target_char_index[e] == 'sos':\n",
        "            continue\n",
        "        true_sample.append(reverse_target_char_index[e])\n",
        "        if reverse_target_char_index[e] == 'eos':\n",
        "            break\n",
        "    gT.append(' '.join(true_sample))\n",
        "\n",
        "pred = model1.predict([X_train[50:100], y_train[50:100]])\n",
        "predictions = []\n",
        "for sample in pred:\n",
        "    sampled_token_index = np.argmax(sample, axis=1)\n",
        "    predicted_sample = []\n",
        "    for e in sampled_token_index:\n",
        "        predicted_sample.append(reverse_target_char_index[e])\n",
        "        if reverse_target_char_index[e] == 'eos':\n",
        "            break\n",
        "    predictions.append(' '.join(predicted_sample))\n",
        "\n",
        "for i in range(len(gT[:10])):\n",
        "    print(f\"Original: {ori[i]} \\nGround Truth: {gT[i]} \\nPrediction: {predictions[i]}\")\n",
        "    print()"
      ],
      "execution_count": null,
      "outputs": [
        {
          "output_type": "stream",
          "text": [
            "Original: i know how old you are                        \n",
            "Ground Truth: أعرف كم عمرك eos \n",
            "Prediction: أعرف كم عمرك eos\n",
            "\n",
            "Original: how tall you are                          \n",
            "Ground Truth: ما أطولك eos \n",
            "Prediction: ما أطول eos\n",
            "\n",
            "Original: she turned eightyone                           \n",
            "Ground Truth: أصبح عمرها واحداً و ثمانين سنة eos \n",
            "Prediction: أصبح عمرها واحداً و ثمانين سنة eos\n",
            "\n",
            "Original: when is school over                          \n",
            "Ground Truth: متى ينتهي الدوام المدرسيّ؟ eos \n",
            "Prediction: متى ينتهي الدوام المدرسيّ؟ eos\n",
            "\n",
            "Original: whose books are those                          \n",
            "Ground Truth: لمن هذه الكتب؟ eos \n",
            "Prediction: لمن هذه الكتب؟ eos\n",
            "\n",
            "Original: we grew up together                          \n",
            "Ground Truth: نشأنا سويّا eos \n",
            "Prediction: نشأنا سويّا eos\n",
            "\n",
            "Original: i didnt know she was ill                        \n",
            "Ground Truth: لم أكن على علم بمرضها eos \n",
            "Prediction: لم أكن على علم بمرضها eos\n",
            "\n",
            "Original: meat is expensive nowadays                          \n",
            "Ground Truth: ثمن اللحم باهظ في أيامنا هذه eos \n",
            "Prediction: اللحم اللحم باهظ في أيامنا هذه eos\n",
            "\n",
            "Original: im charging my phone                          \n",
            "Ground Truth: أقوم بشحن هاتفي eos \n",
            "Prediction: أقوم بشحن هاتفي eos\n",
            "\n",
            "Original: its very cold this winter                         \n",
            "Ground Truth: الجوّ بارد جداً هذا الشتاء eos \n",
            "Prediction: إنها بارد جداً هذا الشتاء eos\n",
            "\n"
          ],
          "name": "stdout"
        }
      ]
    },
    {
      "cell_type": "code",
      "metadata": {
        "id": "PW98jOcBPDe-",
        "colab": {
          "base_uri": "https://localhost:8080/"
        },
        "outputId": "cd6904dd-32b8-41cd-d951-55b65f9c81e2"
      },
      "source": [
        "from nltk.translate.bleu_score import corpus_bleu, sentence_bleu\n",
        "from nltk.translate.bleu_score import SmoothingFunction\n",
        "smoother = SmoothingFunction()\n",
        "\n",
        "bleu_scores = corpus_bleu(predictions, gT)*100\n",
        "print(f\"Bleu Score: {bleu_scores}%\")"
      ],
      "execution_count": null,
      "outputs": [
        {
          "output_type": "stream",
          "text": [
            "Bleu Score: 90.42288524110901%\n"
          ],
          "name": "stdout"
        },
        {
          "output_type": "stream",
          "text": [
            "/usr/local/lib/python3.7/dist-packages/nltk/translate/bleu_score.py:490: UserWarning: \n",
            "Corpus/Sentence contains 0 counts of 2-gram overlaps.\n",
            "BLEU scores might be undesirable; use SmoothingFunction().\n",
            "  warnings.warn(_msg)\n"
          ],
          "name": "stderr"
        }
      ]
    },
    {
      "cell_type": "markdown",
      "metadata": {
        "id": "IuQRpaflhOqD"
      },
      "source": [
        "# Evaluation using test data"
      ]
    },
    {
      "cell_type": "code",
      "metadata": {
        "id": "SsyQZgFBhOqF"
      },
      "source": [
        "model1 = keras.models.load_model(\"/content/drive/MyDrive/Colab Notebooks/EECE 693/Assignment4/s2s_manual_shifted_v3\")\n",
        "print(model1.summary())"
      ],
      "execution_count": null,
      "outputs": []
    },
    {
      "cell_type": "code",
      "metadata": {
        "colab": {
          "base_uri": "https://localhost:8080/"
        },
        "id": "EvDCfLI0hOqF",
        "outputId": "7fe1cb8e-7879-431e-bff2-0ea718bfb6f7"
      },
      "source": [
        "ori = \"\"\n",
        "for sample in X_test[:100]:\n",
        "    for e in sample:\n",
        "        ori += reverse_input_char_index[e] + \" \"\n",
        "    ori += '\\n'\n",
        "ori = ori.split('\\n')\n",
        "\n",
        "gT = []\n",
        "for sample in y_test[:100]:\n",
        "    true_sample = []\n",
        "    for e in sample:\n",
        "        if reverse_target_char_index[e] == 'sos':\n",
        "            continue\n",
        "        true_sample.append(reverse_target_char_index[e])\n",
        "        if reverse_target_char_index[e] == 'eos':\n",
        "            break\n",
        "    gT.append(' '.join(true_sample))\n",
        "\n",
        "pred = model1.predict([X_test[:100], y_test[:100]])\n",
        "predictions = []\n",
        "for sample in pred:\n",
        "    sampled_token_index = np.argmax(sample, axis=1)\n",
        "    predicted_sample = []\n",
        "    for e in sampled_token_index:\n",
        "        predicted_sample.append(reverse_target_char_index[e])\n",
        "        if reverse_target_char_index[e] == 'eos':\n",
        "            break\n",
        "    predictions.append(' '.join(predicted_sample))\n",
        "\n",
        "for i in range(len(gT[:10])):\n",
        "    print(f\"Original: {ori[i]} \\nGround Truth: {gT[i]} \\nPrediction: {predictions[i]}\")\n",
        "    print()"
      ],
      "execution_count": null,
      "outputs": [
        {
          "output_type": "stream",
          "text": [
            "Original: you reap what you sow                         \n",
            "Ground Truth: من زرع حصد eos \n",
            "Prediction: سوف تريد ماذا ما                                                         \n",
            "\n",
            "Original: whenever i call he is out                        \n",
            "Ground Truth: كلما أتصل به ، يكون قد خرج eos \n",
            "Prediction: لقد أبي منذ eos\n",
            "\n",
            "Original: i was too happy to sleep                        \n",
            "Ground Truth: لقد كنت مسرورا جدا لكى أنام eos \n",
            "Prediction: كنت وقعت هنا الكثير هنا eos\n",
            "\n",
            "Original: this desk is mine                          \n",
            "Ground Truth: هذا مكتبي eos \n",
            "Prediction: هذا المكتب eos\n",
            "\n",
            "Original: he is ill                           \n",
            "Ground Truth: إنه مريض eos \n",
            "Prediction: هو مريض eos\n",
            "\n",
            "Original: it is unfortunately true                          \n",
            "Ground Truth: مع الأسف إن ذلك صحيح eos \n",
            "Prediction: إن ذلك ذلك ذلك eos\n",
            "\n",
            "Original: i need that medicine                          \n",
            "Ground Truth: أحتاج هذا العلاج eos \n",
            "Prediction: أحتاج لهذا eos\n",
            "\n",
            "Original: please look at me                          \n",
            "Ground Truth: انظر إليّ من فضلك eos \n",
            "Prediction: من إلى من فضلك eos\n",
            "\n",
            "Original: i want to read that book                        \n",
            "Ground Truth: أريد قراءة ذلك الكتاب eos \n",
            "Prediction: أريد أن الكتاب eos\n",
            "\n",
            "Original: im cold                            \n",
            "Ground Truth: أشعر بالبرد eos \n",
            "Prediction: أنا بالبرد eos\n",
            "\n"
          ],
          "name": "stdout"
        }
      ]
    },
    {
      "cell_type": "code",
      "metadata": {
        "colab": {
          "base_uri": "https://localhost:8080/"
        },
        "id": "DZyL1FXuhOqG",
        "outputId": "ba4882c2-3c6b-49a2-c963-4a1fd2b1857b"
      },
      "source": [
        "from nltk.translate.bleu_score import corpus_bleu, sentence_bleu\n",
        "from nltk.translate.bleu_score import SmoothingFunction\n",
        "smoother = SmoothingFunction()\n",
        "\n",
        "bleu_scores = corpus_bleu(predictions, gT)*100\n",
        "print(f\"Bleu Score: {bleu_scores}%\")"
      ],
      "execution_count": null,
      "outputs": [
        {
          "output_type": "stream",
          "text": [
            "Bleu Score: 82.10753934666192%\n"
          ],
          "name": "stdout"
        },
        {
          "output_type": "stream",
          "text": [
            "/usr/local/lib/python3.7/dist-packages/nltk/translate/bleu_score.py:490: UserWarning: \n",
            "Corpus/Sentence contains 0 counts of 2-gram overlaps.\n",
            "BLEU scores might be undesirable; use SmoothingFunction().\n",
            "  warnings.warn(_msg)\n"
          ],
          "name": "stderr"
        }
      ]
    },
    {
      "cell_type": "markdown",
      "metadata": {
        "id": "1lMWlYK-jwcN"
      },
      "source": [
        "# Inference using train data"
      ]
    },
    {
      "cell_type": "code",
      "metadata": {
        "id": "knwQF9eYzGD2"
      },
      "source": [
        "'''\n",
        "Generate the 5 random sentences to translate from the X_test list\n",
        "'''\n",
        "from random import randint\n",
        "\n",
        "sentences_index = set()\n",
        "while len(sentences_index) != 5:\n",
        "    sentences_index.add(randint(0, len(y_test)-1))\n"
      ],
      "execution_count": null,
      "outputs": []
    },
    {
      "cell_type": "code",
      "metadata": {
        "id": "wxUP0mlD357l"
      },
      "source": [
        "'''\n",
        "Encode the input and get the states from it\n",
        "Set the first \"Word\" input of the decoder to our start of sentence token \"sos\"\n",
        "Predict the next word, check if it is the end of sentence token \"eos\" ot if we \n",
        "reached maximum length to end the prediction.\n",
        "If we do not need to end our prediction, update the input states of the next\n",
        "prediction, which will be used as initial values for the lstm layer, to the \n",
        "values of the current lstm states.\n",
        "Input the new states (\"current\") in addition to the predicted word and repeat  \n",
        "'''\n",
        "def decode_sequence(input_seq):\n",
        "    states_value = inf_encoder_model.predict(np.expand_dims(input_seq, axis=0))\n",
        "\n",
        "    target_seq = np.zeros((1, 1))\n",
        "    target_seq[0, 0] = word_index_ara[\"sos\"]\n",
        "\n",
        "    stop_condition = False\n",
        "    decoded_sentence = \"\"\n",
        "    while not stop_condition:\n",
        "        output_tokens, h, c = inf_decoder_model.predict([target_seq] + states_value)\n",
        "\n",
        "        sampled_token_index = np.argmax(output_tokens, axis=2)[0][0]\n",
        "        sampled_char = reverse_target_char_index[sampled_token_index]\n",
        "        decoded_sentence += ' '+sampled_char\n",
        "\n",
        "        if sampled_char == \"eos\" or len(decoded_sentence) > max_decoder_seq_length:\n",
        "            stop_condition = True\n",
        "\n",
        "        target_seq = np.zeros((1, 1))\n",
        "        target_seq[0, 0] = sampled_token_index\n",
        "\n",
        "        states_value = [h, c]\n",
        "    return decoded_sentence"
      ],
      "execution_count": null,
      "outputs": []
    },
    {
      "cell_type": "code",
      "metadata": {
        "id": "WPstc4LwASgU"
      },
      "source": [
        "model = model1\n",
        "\n",
        "'''\n",
        "Use same encoder as the model, but output the states of the lstm layer\n",
        "'''\n",
        "inf_encoder_inputs = model.input[0]\n",
        "inf_encoder_embedded_sequences = model.layers[2](inf_encoder_inputs)\n",
        "inf_encoder_outputs, state_h, state_c = model.layers[4](inf_encoder_embedded_sequences)\n",
        "inf_encoder_states = [state_h, state_c]\n",
        "inf_encoder_model = keras.Model(inf_encoder_inputs, inf_encoder_states)\n",
        "\n",
        "'''\n",
        "use same decoder as the model, but take as input the output states of the encoder\n",
        "in addition to the normal input which in our case is going to be the previous\n",
        "predicted word. Set the states of the first lstm layer to the output states of \n",
        "the encoder model. Model outputs also its own states which will then be used as\n",
        "initial state for the lstm layer\n",
        "'''\n",
        "\n",
        "inf_decoder_inputs = model.input[1]\n",
        "inf_decoder_state_input_h = keras.Input(shape=(latent_dim,))\n",
        "inf_decoder_state_input_c = keras.Input(shape=(latent_dim,))\n",
        "inf_decoder_states_inputs = [inf_decoder_state_input_h, inf_decoder_state_input_c]\n",
        "inf_decoder_embedded_sequences = model.layers[3](inf_decoder_inputs)\n",
        "inf_decoder_outputs, state_h2, state_c2  = model.layers[5](inf_decoder_embedded_sequences, initial_state=inf_decoder_states_inputs)\n",
        "inf_decoder_states2 = [state_h2, state_c2]\n",
        "inf_decoder_outputs2 = model.layers[6](inf_decoder_outputs)\n",
        "\n",
        "inf_decoder_model = keras.Model(\n",
        "    [inf_decoder_inputs] + inf_decoder_states_inputs,\n",
        "    [inf_decoder_outputs2] + inf_decoder_states2)\n"
      ],
      "execution_count": null,
      "outputs": []
    },
    {
      "cell_type": "code",
      "metadata": {
        "id": "uxy3UbOiGUGK",
        "colab": {
          "base_uri": "https://localhost:8080/"
        },
        "outputId": "3114ac53-5b45-48d3-8c38-a271865418a0"
      },
      "source": [
        "for index in sentences_index:\n",
        "    input_seq = X_train[index]\n",
        "    print(\"\\nInput Sequence: \", end=\"\")\n",
        "    for e in input_seq:\n",
        "        print(reverse_input_char_index[e], end=\" \")\n",
        "    print(\"\\nTrue translation: \", end=\"\")\n",
        "    for e in y_train[index]:\n",
        "        print(reverse_target_char_index[e], end=\" \")\n",
        "    output = decode_sequence(input_seq)\n",
        "    print(\"\\nOutput Sequence: \", output)\n",
        "    print(\"################################################\")"
      ],
      "execution_count": null,
      "outputs": [
        {
          "output_type": "stream",
          "text": [
            "\n",
            "Input Sequence: who said that                          \n",
            "True translation: sos من قال هذا؟ eos                                                         \n",
            "Output Sequence:   من قال هذا؟ eos\n",
            "################################################\n",
            "\n",
            "Input Sequence: play with me                          \n",
            "True translation: sos العب معي eos                                                          \n",
            "Output Sequence:   العب معي eos\n",
            "################################################\n",
            "\n",
            "Input Sequence: how much did you win                        \n",
            "True translation: sos كم رَبِحتَ؟ eos                                                          \n",
            "Output Sequence:   كم رَبِحتَ؟ eos\n",
            "################################################\n",
            "\n",
            "Input Sequence: i would do anything for tom                       \n",
            "True translation: sos سأفعل أيّ شيء لِتوم eos                                                        \n",
            "Output Sequence:   سأفعل أيّ شيء لِتوم eos\n",
            "################################################\n",
            "\n",
            "Input Sequence: were against war                          \n",
            "True translation: sos نحن ضد الحرب eos                                                         \n",
            "Output Sequence:   نحن ضد الحرب eos\n",
            "################################################\n"
          ],
          "name": "stdout"
        }
      ]
    },
    {
      "cell_type": "markdown",
      "metadata": {
        "id": "lpLBEEFWhjqH"
      },
      "source": [
        "# Inference using test data"
      ]
    },
    {
      "cell_type": "code",
      "metadata": {
        "id": "OmOd-rV8hjqV"
      },
      "source": [
        "'''\n",
        "Generate the 5 random sentences to translate from the X_test list\n",
        "'''\n",
        "from random import randint\n",
        "\n",
        "sentences_index = set()\n",
        "while len(sentences_index) != 5:\n",
        "    sentences_index.add(randint(0, len(y_test)-1))\n"
      ],
      "execution_count": null,
      "outputs": []
    },
    {
      "cell_type": "code",
      "metadata": {
        "id": "enBve01jhjqW"
      },
      "source": [
        "'''\n",
        "Encode the input and get the states from it\n",
        "Set the first \"Word\" input of the decoder to our start of sentence token \"sos\"\n",
        "Predict the next word, check if it is the end of sentence token \"eos\" ot if we \n",
        "reached maximum length to end the prediction.\n",
        "If we do not need to end our prediction, update the input states of the next\n",
        "prediction, which will be used as initial values for the lstm layer, to the \n",
        "values of the current lstm states.\n",
        "Input the new states (\"current\") in addition to the predicted word and repeat  \n",
        "'''\n",
        "def decode_sequence(input_seq):\n",
        "    states_value = inf_encoder_model.predict(np.expand_dims(input_seq, axis=0))\n",
        "\n",
        "    target_seq = np.zeros((1, 1))\n",
        "    target_seq[0, 0] = word_index_ara[\"sos\"]\n",
        "\n",
        "    stop_condition = False\n",
        "    decoded_sentence = \"\"\n",
        "    while not stop_condition:\n",
        "        output_tokens, h, c = inf_decoder_model.predict([target_seq] + states_value)\n",
        "\n",
        "        sampled_token_index = np.argmax(output_tokens, axis=2)[0][0]\n",
        "        sampled_char = reverse_target_char_index[sampled_token_index]\n",
        "        decoded_sentence += ' '+sampled_char\n",
        "\n",
        "        if sampled_char == \"eos\" or len(decoded_sentence) > max_decoder_seq_length:\n",
        "            stop_condition = True\n",
        "\n",
        "        target_seq = np.zeros((1, 1))\n",
        "        target_seq[0, 0] = sampled_token_index\n",
        "\n",
        "        states_value = [h, c]\n",
        "    return decoded_sentence"
      ],
      "execution_count": null,
      "outputs": []
    },
    {
      "cell_type": "code",
      "metadata": {
        "id": "1cGavd9thjqW"
      },
      "source": [
        "model = model1\n",
        "\n",
        "'''\n",
        "Use same encoder as the model, but output the states of the lstm layer\n",
        "'''\n",
        "inf_encoder_inputs = model.input[0]\n",
        "inf_encoder_embedded_sequences = model.layers[2](inf_encoder_inputs)\n",
        "inf_encoder_outputs, state_h, state_c = model.layers[4](inf_encoder_embedded_sequences)\n",
        "inf_encoder_states = [state_h, state_c]\n",
        "inf_encoder_model = keras.Model(inf_encoder_inputs, inf_encoder_states)\n",
        "\n",
        "'''\n",
        "use same decoder as the model, but take as input the output states of the encoder\n",
        "in addition to the normal input which in our case is going to be the previous\n",
        "predicted word. Set the states of the first lstm layer to the output states of \n",
        "the encoder model. Model outputs also its own states which will then be used as\n",
        "initial state for the lstm layer\n",
        "'''\n",
        "\n",
        "inf_decoder_inputs = model.input[1]\n",
        "inf_decoder_state_input_h = keras.Input(shape=(latent_dim,))\n",
        "inf_decoder_state_input_c = keras.Input(shape=(latent_dim,))\n",
        "inf_decoder_states_inputs = [inf_decoder_state_input_h, inf_decoder_state_input_c]\n",
        "inf_decoder_embedded_sequences = model.layers[3](inf_decoder_inputs)\n",
        "inf_decoder_outputs, state_h2, state_c2  = model.layers[5](inf_decoder_embedded_sequences, initial_state=inf_decoder_states_inputs)\n",
        "inf_decoder_states2 = [state_h2, state_c2]\n",
        "inf_decoder_outputs2 = model.layers[6](inf_decoder_outputs)\n",
        "\n",
        "inf_decoder_model = keras.Model(\n",
        "    [inf_decoder_inputs] + inf_decoder_states_inputs,\n",
        "    [inf_decoder_outputs2] + inf_decoder_states2)\n"
      ],
      "execution_count": null,
      "outputs": []
    },
    {
      "cell_type": "code",
      "metadata": {
        "colab": {
          "base_uri": "https://localhost:8080/"
        },
        "id": "OdkxBy0-hjqX",
        "outputId": "9630579b-eb85-41db-e03c-d627fab9bfb6"
      },
      "source": [
        "for index in sentences_index:\n",
        "    input_seq = X_test[index]\n",
        "    print(\"\\nInput Sequence: \", end=\"\")\n",
        "    for e in input_seq:\n",
        "        print(reverse_input_char_index[e], end=\" \")\n",
        "    print(\"\\nTrue translation: \", end=\"\")\n",
        "    for e in y_test[index]:\n",
        "        print(reverse_target_char_index[e], end=\" \")\n",
        "    output = decode_sequence(input_seq)\n",
        "    print(\"\\nOutput Sequence: \", output)\n",
        "    print(\"################################################\")"
      ],
      "execution_count": null,
      "outputs": [
        {
          "output_type": "stream",
          "text": [
            "\n",
            "Input Sequence: my aim is to be a doctor                      \n",
            "True translation: sos حلمي أن أكون طبيباً eos                                                        \n",
            "Output Sequence:   هدفي أن أصبح طبيباً eos\n",
            "################################################\n",
            "\n",
            "Input Sequence: do you believe that                         \n",
            "True translation: sos هل تصدّقين ذلك؟ eos                                                         \n",
            "Output Sequence:   افعل ما تريد eos\n",
            "################################################\n",
            "\n",
            "Input Sequence: i waited for you                         \n",
            "True translation: sos إنتظرتك eos                                                           \n",
            "Output Sequence:   لقد حاولت عليّ أن eos\n",
            "################################################\n",
            "\n",
            "Input Sequence: i am in the house                        \n",
            "True translation: sos أنا في المنزل eos                                                         \n",
            "Output Sequence:   أنا في لندن eos\n",
            "################################################\n",
            "\n",
            "Input Sequence: she was about to go out                       \n",
            "True translation: sos كانت على وشك أن تخرج eos                                                       \n",
            "Output Sequence:   كانت على وشك الخروج eos\n",
            "################################################\n"
          ],
          "name": "stdout"
        }
      ]
    }
  ]
}